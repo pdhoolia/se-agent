{
 "cells": [
  {
   "cell_type": "code",
   "execution_count": 1,
   "metadata": {},
   "outputs": [],
   "source": [
    "from se_agent.util.vector_store_utils import get_or_create_vector_store, VectorType"
   ]
  },
  {
   "cell_type": "code",
   "execution_count": 2,
   "metadata": {},
   "outputs": [],
   "source": [
    "from langchain_openai import OpenAIEmbeddings\n",
    "embeddings = OpenAIEmbeddings()"
   ]
  },
  {
   "cell_type": "code",
   "execution_count": 3,
   "metadata": {},
   "outputs": [],
   "source": [
    "uri = \"./test.db\"\n",
    "code_vector_store = get_or_create_vector_store(embeddings, uri, VectorType.CODE.value)\n",
    "sem_sum_vector_store = get_or_create_vector_store(embeddings, uri, VectorType.SEMANTIC_SUMMARY.value)"
   ]
  },
  {
   "cell_type": "code",
   "execution_count": 5,
   "metadata": {},
   "outputs": [
    {
     "data": {
      "text/plain": [
       "['say_hello.py']"
      ]
     },
     "execution_count": 5,
     "metadata": {},
     "output_type": "execute_result"
    }
   ],
   "source": [
    "from langchain_core.documents import Document\n",
    "\n",
    "code = \"def sayHelloTo(name):\\n    print(f'Hello, {name}!')\\n\\nsayHelloTo('world')\"\n",
    "sem_sum = \"A function that prints a greeting to the console.\"\n",
    "\n",
    "code_vector_store.add_documents([Document(page_content=code)], ids=[\"say_hello.py\"])\n",
    "sem_sum_vector_store.add_documents([Document(page_content=sem_sum)], ids=[\"say_hello.py\"])"
   ]
  },
  {
   "cell_type": "code",
   "execution_count": 6,
   "metadata": {},
   "outputs": [
    {
     "data": {
      "text/plain": [
       "[Document(metadata={'pk': 'say_hello.py'}, page_content=\"def sayHelloTo(name):\\n    print(f'Hello, {name}!')\\n\\nsayHelloTo('world')\")]"
      ]
     },
     "execution_count": 6,
     "metadata": {},
     "output_type": "execute_result"
    }
   ],
   "source": [
    "query = \"what do i use to greet the user\"\n",
    "code_vector_store.similarity_search(query, k=5)"
   ]
  },
  {
   "cell_type": "code",
   "execution_count": 7,
   "metadata": {},
   "outputs": [
    {
     "data": {
      "text/plain": [
       "[Document(metadata={'pk': 'say_hello.py'}, page_content='A function that prints a greeting to the console.')]"
      ]
     },
     "execution_count": 7,
     "metadata": {},
     "output_type": "execute_result"
    }
   ],
   "source": [
    "sem_sum_vector_store.similarity_search(query, k=5)"
   ]
  }
 ],
 "metadata": {
  "kernelspec": {
   "display_name": ".conda",
   "language": "python",
   "name": "python3"
  },
  "language_info": {
   "codemirror_mode": {
    "name": "ipython",
    "version": 3
   },
   "file_extension": ".py",
   "mimetype": "text/x-python",
   "name": "python",
   "nbconvert_exporter": "python",
   "pygments_lexer": "ipython3",
   "version": "3.12.7"
  }
 },
 "nbformat": 4,
 "nbformat_minor": 2
}
